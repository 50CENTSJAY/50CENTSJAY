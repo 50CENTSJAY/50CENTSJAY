{
 "cells": [
  {
   "cell_type": "markdown",
   "id": "301a0a8f",
   "metadata": {},
   "source": [
    "# This is a Jupyter notebook for canva's Lead DA tech interview\n"
   ]
  },
  {
   "cell_type": "code",
   "execution_count": 1,
   "id": "1a789023",
   "metadata": {},
   "outputs": [],
   "source": [
    "# Import package\n",
    "import pandas as pd\n",
    "import matplotlib.pyplot as plt\n",
    "import math\n",
    "import numpy as np\n",
    "from scipy.stats import ttest_ind\n",
    "from statsmodels.stats.proportion import proportions_ztest, proportion_confint\n",
    "import seaborn as sns\n",
    "\n",
    "# set seaborn graphs large\n",
    "sns.set(rc = {\n",
    "    \"figure.figsize\": (14, 7)\n",
    "})"
   ]
  },
  {
   "cell_type": "code",
   "execution_count": 2,
   "id": "5649fc6e",
   "metadata": {},
   "outputs": [
    {
     "data": {
      "text/html": [
       "<div>\n",
       "<style scoped>\n",
       "    .dataframe tbody tr th:only-of-type {\n",
       "        vertical-align: middle;\n",
       "    }\n",
       "\n",
       "    .dataframe tbody tr th {\n",
       "        vertical-align: top;\n",
       "    }\n",
       "\n",
       "    .dataframe thead th {\n",
       "        text-align: right;\n",
       "    }\n",
       "</style>\n",
       "<table border=\"1\" class=\"dataframe\">\n",
       "  <thead>\n",
       "    <tr style=\"text-align: right;\">\n",
       "      <th></th>\n",
       "      <th>experiment_day</th>\n",
       "      <th>search_id</th>\n",
       "      <th>user_id</th>\n",
       "      <th>experiment_group</th>\n",
       "      <th>user_tier</th>\n",
       "      <th>query</th>\n",
       "      <th>media_types</th>\n",
       "      <th>num_elevations</th>\n",
       "      <th>num_clicks</th>\n",
       "      <th>num_exported_results</th>\n",
       "      <th>num_licenses</th>\n",
       "    </tr>\n",
       "  </thead>\n",
       "  <tbody>\n",
       "    <tr>\n",
       "      <th>0</th>\n",
       "      <td>65</td>\n",
       "      <td>AOGFabmo</td>\n",
       "      <td>51b2325a</td>\n",
       "      <td>B</td>\n",
       "      <td>free</td>\n",
       "      <td>speech bubble</td>\n",
       "      <td>RV</td>\n",
       "      <td>0</td>\n",
       "      <td>1</td>\n",
       "      <td>0</td>\n",
       "      <td>0</td>\n",
       "    </tr>\n",
       "    <tr>\n",
       "      <th>1</th>\n",
       "      <td>65</td>\n",
       "      <td>AIT27lH-</td>\n",
       "      <td>97c2ab50</td>\n",
       "      <td>A</td>\n",
       "      <td>paid</td>\n",
       "      <td>line</td>\n",
       "      <td>RV</td>\n",
       "      <td>80</td>\n",
       "      <td>2</td>\n",
       "      <td>1</td>\n",
       "      <td>0</td>\n",
       "    </tr>\n",
       "    <tr>\n",
       "      <th>2</th>\n",
       "      <td>65</td>\n",
       "      <td>AMgr6dQc</td>\n",
       "      <td>d626988c</td>\n",
       "      <td>B</td>\n",
       "      <td>free</td>\n",
       "      <td>button</td>\n",
       "      <td>RV</td>\n",
       "      <td>0</td>\n",
       "      <td>1</td>\n",
       "      <td>0</td>\n",
       "      <td>0</td>\n",
       "    </tr>\n",
       "    <tr>\n",
       "      <th>3</th>\n",
       "      <td>65</td>\n",
       "      <td>WKgECNwN</td>\n",
       "      <td>8bcaf483</td>\n",
       "      <td>B</td>\n",
       "      <td>free</td>\n",
       "      <td>apple</td>\n",
       "      <td>RV</td>\n",
       "      <td>0</td>\n",
       "      <td>0</td>\n",
       "      <td>0</td>\n",
       "      <td>0</td>\n",
       "    </tr>\n",
       "    <tr>\n",
       "      <th>4</th>\n",
       "      <td>65</td>\n",
       "      <td>dzdr0OMT</td>\n",
       "      <td>ca240171</td>\n",
       "      <td>A</td>\n",
       "      <td>paid</td>\n",
       "      <td>banner</td>\n",
       "      <td>RV</td>\n",
       "      <td>80</td>\n",
       "      <td>1</td>\n",
       "      <td>1</td>\n",
       "      <td>0</td>\n",
       "    </tr>\n",
       "  </tbody>\n",
       "</table>\n",
       "</div>"
      ],
      "text/plain": [
       "   experiment_day search_id   user_id experiment_group user_tier  \\\n",
       "0              65  AOGFabmo  51b2325a                B      free   \n",
       "1              65  AIT27lH-  97c2ab50                A      paid   \n",
       "2              65  AMgr6dQc  d626988c                B      free   \n",
       "3              65  WKgECNwN  8bcaf483                B      free   \n",
       "4              65  dzdr0OMT  ca240171                A      paid   \n",
       "\n",
       "           query media_types  num_elevations  num_clicks  \\\n",
       "0  speech bubble          RV               0           1   \n",
       "1           line          RV              80           2   \n",
       "2         button          RV               0           1   \n",
       "3          apple          RV               0           0   \n",
       "4         banner          RV              80           1   \n",
       "\n",
       "   num_exported_results  num_licenses  \n",
       "0                     0             0  \n",
       "1                     1             0  \n",
       "2                     0             0  \n",
       "3                     0             0  \n",
       "4                     1             0  "
      ]
     },
     "execution_count": 2,
     "metadata": {},
     "output_type": "execute_result"
    }
   ],
   "source": [
    "# read in data \n",
    "df = pd.read_csv('manual_elevations_experiment_data.csv')\n",
    "df.head()\n"
   ]
  },
  {
   "cell_type": "markdown",
   "id": "ad5f102a",
   "metadata": {},
   "source": [
    "## Inspect the data and remove missing data\n",
    "\n",
    "* Insepect data size\n",
    "* Frequeency of missing \n",
    "* Any duplicated values for search id"
   ]
  },
  {
   "cell_type": "code",
   "execution_count": null,
   "id": "4a886023",
   "metadata": {},
   "outputs": [],
   "source": [
    "df.shape"
   ]
  },
  {
   "cell_type": "code",
   "execution_count": 13,
   "id": "74c79e83",
   "metadata": {},
   "outputs": [
    {
     "name": "stdout",
     "output_type": "stream",
     "text": [
      "<class 'pandas.core.frame.DataFrame'>\n",
      "RangeIndex: 1688377 entries, 0 to 1688376\n",
      "Data columns (total 11 columns):\n",
      " #   Column                Non-Null Count    Dtype \n",
      "---  ------                --------------    ----- \n",
      " 0   experiment_day        1688377 non-null  int64 \n",
      " 1   search_id             1688377 non-null  object\n",
      " 2   user_id               1688377 non-null  object\n",
      " 3   experiment_group      1688377 non-null  object\n",
      " 4   user_tier             1688377 non-null  object\n",
      " 5   query                 1688375 non-null  object\n",
      " 6   media_types           1688377 non-null  object\n",
      " 7   num_elevations        1688377 non-null  int64 \n",
      " 8   num_clicks            1688377 non-null  int64 \n",
      " 9   num_exported_results  1688377 non-null  int64 \n",
      " 10  num_licenses          1688377 non-null  int64 \n",
      "dtypes: int64(5), object(6)\n",
      "memory usage: 141.7+ MB\n"
     ]
    }
   ],
   "source": [
    "df.info()"
   ]
  },
  {
   "cell_type": "code",
   "execution_count": 14,
   "id": "5e9b80c9",
   "metadata": {},
   "outputs": [
    {
     "data": {
      "text/html": [
       "<div>\n",
       "<style scoped>\n",
       "    .dataframe tbody tr th:only-of-type {\n",
       "        vertical-align: middle;\n",
       "    }\n",
       "\n",
       "    .dataframe tbody tr th {\n",
       "        vertical-align: top;\n",
       "    }\n",
       "\n",
       "    .dataframe thead th {\n",
       "        text-align: right;\n",
       "    }\n",
       "</style>\n",
       "<table border=\"1\" class=\"dataframe\">\n",
       "  <thead>\n",
       "    <tr style=\"text-align: right;\">\n",
       "      <th></th>\n",
       "      <th>experiment_day</th>\n",
       "      <th>num_elevations</th>\n",
       "      <th>num_clicks</th>\n",
       "      <th>num_exported_results</th>\n",
       "      <th>num_licenses</th>\n",
       "    </tr>\n",
       "  </thead>\n",
       "  <tbody>\n",
       "    <tr>\n",
       "      <th>count</th>\n",
       "      <td>1.688377e+06</td>\n",
       "      <td>1.688377e+06</td>\n",
       "      <td>1.688377e+06</td>\n",
       "      <td>1.688377e+06</td>\n",
       "      <td>1.688377e+06</td>\n",
       "    </tr>\n",
       "    <tr>\n",
       "      <th>mean</th>\n",
       "      <td>3.592033e+01</td>\n",
       "      <td>2.853413e+01</td>\n",
       "      <td>1.101965e+00</td>\n",
       "      <td>3.299382e-01</td>\n",
       "      <td>3.166947e-02</td>\n",
       "    </tr>\n",
       "    <tr>\n",
       "      <th>std</th>\n",
       "      <td>1.980144e+01</td>\n",
       "      <td>4.578534e+01</td>\n",
       "      <td>1.782325e+00</td>\n",
       "      <td>6.598564e-01</td>\n",
       "      <td>2.272299e-01</td>\n",
       "    </tr>\n",
       "    <tr>\n",
       "      <th>min</th>\n",
       "      <td>1.000000e+00</td>\n",
       "      <td>0.000000e+00</td>\n",
       "      <td>0.000000e+00</td>\n",
       "      <td>0.000000e+00</td>\n",
       "      <td>0.000000e+00</td>\n",
       "    </tr>\n",
       "    <tr>\n",
       "      <th>25%</th>\n",
       "      <td>2.000000e+01</td>\n",
       "      <td>0.000000e+00</td>\n",
       "      <td>0.000000e+00</td>\n",
       "      <td>0.000000e+00</td>\n",
       "      <td>0.000000e+00</td>\n",
       "    </tr>\n",
       "    <tr>\n",
       "      <th>50%</th>\n",
       "      <td>3.500000e+01</td>\n",
       "      <td>0.000000e+00</td>\n",
       "      <td>1.000000e+00</td>\n",
       "      <td>0.000000e+00</td>\n",
       "      <td>0.000000e+00</td>\n",
       "    </tr>\n",
       "    <tr>\n",
       "      <th>75%</th>\n",
       "      <td>5.200000e+01</td>\n",
       "      <td>4.100000e+01</td>\n",
       "      <td>1.000000e+00</td>\n",
       "      <td>1.000000e+00</td>\n",
       "      <td>0.000000e+00</td>\n",
       "    </tr>\n",
       "    <tr>\n",
       "      <th>max</th>\n",
       "      <td>7.100000e+01</td>\n",
       "      <td>4.100000e+02</td>\n",
       "      <td>2.030000e+02</td>\n",
       "      <td>5.000000e+01</td>\n",
       "      <td>5.600000e+01</td>\n",
       "    </tr>\n",
       "  </tbody>\n",
       "</table>\n",
       "</div>"
      ],
      "text/plain": [
       "       experiment_day  num_elevations    num_clicks  num_exported_results  \\\n",
       "count    1.688377e+06    1.688377e+06  1.688377e+06          1.688377e+06   \n",
       "mean     3.592033e+01    2.853413e+01  1.101965e+00          3.299382e-01   \n",
       "std      1.980144e+01    4.578534e+01  1.782325e+00          6.598564e-01   \n",
       "min      1.000000e+00    0.000000e+00  0.000000e+00          0.000000e+00   \n",
       "25%      2.000000e+01    0.000000e+00  0.000000e+00          0.000000e+00   \n",
       "50%      3.500000e+01    0.000000e+00  1.000000e+00          0.000000e+00   \n",
       "75%      5.200000e+01    4.100000e+01  1.000000e+00          1.000000e+00   \n",
       "max      7.100000e+01    4.100000e+02  2.030000e+02          5.000000e+01   \n",
       "\n",
       "       num_licenses  \n",
       "count  1.688377e+06  \n",
       "mean   3.166947e-02  \n",
       "std    2.272299e-01  \n",
       "min    0.000000e+00  \n",
       "25%    0.000000e+00  \n",
       "50%    0.000000e+00  \n",
       "75%    0.000000e+00  \n",
       "max    5.600000e+01  "
      ]
     },
     "execution_count": 14,
     "metadata": {},
     "output_type": "execute_result"
    }
   ],
   "source": [
    "df.describe()"
   ]
  },
  {
   "cell_type": "code",
   "execution_count": 15,
   "id": "3f8784ad",
   "metadata": {},
   "outputs": [
    {
     "data": {
      "text/html": [
       "<div>\n",
       "<style scoped>\n",
       "    .dataframe tbody tr th:only-of-type {\n",
       "        vertical-align: middle;\n",
       "    }\n",
       "\n",
       "    .dataframe tbody tr th {\n",
       "        vertical-align: top;\n",
       "    }\n",
       "\n",
       "    .dataframe thead th {\n",
       "        text-align: right;\n",
       "    }\n",
       "</style>\n",
       "<table border=\"1\" class=\"dataframe\">\n",
       "  <thead>\n",
       "    <tr style=\"text-align: right;\">\n",
       "      <th></th>\n",
       "      <th>experiment_day</th>\n",
       "      <th>search_id</th>\n",
       "      <th>user_id</th>\n",
       "      <th>experiment_group</th>\n",
       "      <th>user_tier</th>\n",
       "      <th>query</th>\n",
       "      <th>media_types</th>\n",
       "      <th>num_elevations</th>\n",
       "      <th>num_clicks</th>\n",
       "      <th>num_exported_results</th>\n",
       "      <th>num_licenses</th>\n",
       "    </tr>\n",
       "  </thead>\n",
       "  <tbody>\n",
       "    <tr>\n",
       "      <th>835451</th>\n",
       "      <td>13</td>\n",
       "      <td>MMMJsx5d</td>\n",
       "      <td>4e1858ec</td>\n",
       "      <td>B</td>\n",
       "      <td>paid</td>\n",
       "      <td>NaN</td>\n",
       "      <td>V</td>\n",
       "      <td>19</td>\n",
       "      <td>1</td>\n",
       "      <td>0</td>\n",
       "      <td>0</td>\n",
       "    </tr>\n",
       "    <tr>\n",
       "      <th>1487502</th>\n",
       "      <td>6</td>\n",
       "      <td>AIqkk5v1</td>\n",
       "      <td>12355455</td>\n",
       "      <td>A</td>\n",
       "      <td>paid</td>\n",
       "      <td>NaN</td>\n",
       "      <td>V</td>\n",
       "      <td>18</td>\n",
       "      <td>0</td>\n",
       "      <td>0</td>\n",
       "      <td>0</td>\n",
       "    </tr>\n",
       "  </tbody>\n",
       "</table>\n",
       "</div>"
      ],
      "text/plain": [
       "         experiment_day search_id   user_id experiment_group user_tier query  \\\n",
       "835451               13  MMMJsx5d  4e1858ec                B      paid   NaN   \n",
       "1487502               6  AIqkk5v1  12355455                A      paid   NaN   \n",
       "\n",
       "        media_types  num_elevations  num_clicks  num_exported_results  \\\n",
       "835451            V              19           1                     0   \n",
       "1487502           V              18           0                     0   \n",
       "\n",
       "         num_licenses  \n",
       "835451              0  \n",
       "1487502             0  "
      ]
     },
     "execution_count": 15,
     "metadata": {},
     "output_type": "execute_result"
    }
   ],
   "source": [
    "# analyze missing variables\n",
    "df.isna().sum()\n",
    "df[df['query'].isna()]\n"
   ]
  },
  {
   "cell_type": "code",
   "execution_count": 16,
   "id": "cb7a2ac2",
   "metadata": {},
   "outputs": [],
   "source": [
    "# drop rows with missing values\n",
    "df.dropna(inplace=True)"
   ]
  },
  {
   "cell_type": "code",
   "execution_count": 3,
   "id": "2c63ba36",
   "metadata": {},
   "outputs": [],
   "source": [
    "# drop duplicated rows \n",
    "df.duplicated(subset = ['search_id']).sum()\n",
    "\n",
    "#inspecated dulicated rows\n",
    "\n",
    "filter_duplicate_searchid = (df['search_id'].duplicated()==True)\n",
    "\n"
   ]
  },
  {
   "cell_type": "code",
   "execution_count": 4,
   "id": "8adb5dff",
   "metadata": {},
   "outputs": [],
   "source": [
    "# drop duplicated rows\n",
    "df.drop_duplicates(subset = ['search_id'], keep = False, inplace = True)"
   ]
  },
  {
   "cell_type": "markdown",
   "id": "4afeab2d",
   "metadata": {},
   "source": [
    "### Make plots to see variable's frequency by group \n",
    "\n",
    "* Goal - the distributions of each variables\n",
    "* And remove data outliers - Group S exists in A/B testing.\n",
    "\n"
   ]
  },
  {
   "cell_type": "code",
   "execution_count": 16,
   "id": "00fee463",
   "metadata": {},
   "outputs": [],
   "source": [
    "# make a function to scan value counts\n",
    "\n",
    "def make_valuecount_chart(data, variable, chart_type):\n",
    "    \"\"\"  data prep on the input data \n",
    "    \"\"\" \n",
    "    chart_data = data[variable].value_counts().to_frame()\n",
    "    \n",
    "    chart_data.sort_index(ascending = True, inplace = True)\n",
    "    \n",
    "    if chart_type == 'linechart': \n",
    "        return  sns.lineplot (data = chart_data, \n",
    "              x = chart_data.index,\n",
    "              y = variable)\n",
    "    if chart_type == 'barchart': \n",
    "        return sns.barplot (data = chart_data, \n",
    "              x = chart_data.index,\n",
    "              y = variable)\n",
    "    \n",
    "    "
   ]
  },
  {
   "cell_type": "code",
   "execution_count": 61,
   "id": "57003ea5",
   "metadata": {},
   "outputs": [
    {
     "data": {
      "text/plain": [
       "<AxesSubplot:ylabel='media_types'>"
      ]
     },
     "execution_count": 61,
     "metadata": {},
     "output_type": "execute_result"
    },
    {
     "data": {
      "image/png": "[encoded data removed]",
      "text/plain": [
       "<Figure size 432x288 with 1 Axes>"
      ]
     },
     "metadata": {
      "needs_background": "light"
     },
     "output_type": "display_data"
    }
   ],
   "source": [
    "#look at media type\n",
    "make_valuecount_chart(df,'media_types','barchart')"
   ]
  },
  {
   "cell_type": "code",
   "execution_count": 60,
   "id": "dc3cf98f",
   "metadata": {},
   "outputs": [
    {
     "data": {
      "text/plain": [
       "<AxesSubplot:ylabel='user_tier'>"
      ]
     },
     "execution_count": 60,
     "metadata": {},
     "output_type": "execute_result"
    },
    {
     "data": {
      "image/png": "[encoded data removed]",
      "text/plain": [
       "<Figure size 432x288 with 1 Axes>"
      ]
     },
     "metadata": {
      "needs_background": "light"
     },
     "output_type": "display_data"
    }
   ],
   "source": [
    "#look at user_tier\n",
    "make_valuecount_chart(df,'user_tier','barchart')"
   ]
  },
  {
   "cell_type": "code",
   "execution_count": 64,
   "id": "0b170732",
   "metadata": {},
   "outputs": [
    {
     "data": {
      "text/plain": [
       "<AxesSubplot:ylabel='experiment_group'>"
      ]
     },
     "execution_count": 64,
     "metadata": {},
     "output_type": "execute_result"
    },
    {
     "data": {
      "image/png": "[encoded data removed]",
      "text/plain": [
       "<Figure size 432x288 with 1 Axes>"
      ]
     },
     "metadata": {
      "needs_background": "light"
     },
     "output_type": "display_data"
    }
   ],
   "source": [
    "make_valuecount_chart(df,'experiment_group','barchart')"
   ]
  },
  {
   "cell_type": "markdown",
   "id": "7d3e28a1",
   "metadata": {},
   "source": [
    "#### Thoughts: \"s\" is not a valid group so I will remove group s"
   ]
  },
  {
   "cell_type": "code",
   "execution_count": 62,
   "id": "3a0e7102",
   "metadata": {},
   "outputs": [
    {
     "data": {
      "text/plain": [
       "<AxesSubplot:ylabel='experiment_day'>"
      ]
     },
     "execution_count": 62,
     "metadata": {},
     "output_type": "execute_result"
    },
    {
     "data": {
      "image/png": "[encoded data removed]",
      "text/plain": [
       "<Figure size 432x288 with 1 Axes>"
      ]
     },
     "metadata": {
      "needs_background": "light"
     },
     "output_type": "display_data"
    }
   ],
   "source": [
    "#look at no. of days e\n",
    "make_valuecount_chart(df,'experiment_day','linechart')\n",
    "\n"
   ]
  },
  {
   "cell_type": "code",
   "execution_count": 17,
   "id": "aac652c7",
   "metadata": {},
   "outputs": [
    {
     "data": {
      "text/plain": [
       "<AxesSubplot:ylabel='num_elevations'>"
      ]
     },
     "execution_count": 17,
     "metadata": {},
     "output_type": "execute_result"
    },
    {
     "data": {
      "image/png": "[encoded data removed]",
      "text/plain": [
       "<Figure size 1008x504 with 1 Axes>"
      ]
     },
     "metadata": {},
     "output_type": "display_data"
    }
   ],
   "source": [
    "make_valuecount_chart(df,'num_elevations','linechart')\n"
   ]
  },
  {
   "cell_type": "code",
   "execution_count": 6,
   "id": "73c27859",
   "metadata": {},
   "outputs": [
    {
     "data": {
      "text/plain": [
       "Index(['experiment_day', 'search_id', 'user_id', 'experiment_group',\n",
       "       'user_tier', 'query', 'media_types', 'num_elevations', 'num_clicks',\n",
       "       'num_exported_results', 'num_licenses'],\n",
       "      dtype='object')"
      ]
     },
     "execution_count": 6,
     "metadata": {},
     "output_type": "execute_result"
    }
   ],
   "source": [
    "df.columns"
   ]
  },
  {
   "cell_type": "code",
   "execution_count": 10,
   "id": "0fb048f7",
   "metadata": {},
   "outputs": [],
   "source": [
    "# see if we have manually evlated image in group a/b\n",
    "test = df.groupby(['experiment_group','num_elevations']).agg({'search_id':'count'})"
   ]
  },
  {
   "cell_type": "code",
   "execution_count": 11,
   "id": "ab6e9fe5",
   "metadata": {},
   "outputs": [],
   "source": [
    "test.reset_index(inplace= True)"
   ]
  },
  {
   "cell_type": "code",
   "execution_count": 19,
   "id": "b6159b36",
   "metadata": {},
   "outputs": [
    {
     "data": {
      "text/plain": [
       "experiment_group  num_elevations  search_id\n",
       "B                 0               847614       1\n",
       "                  13              18           1\n",
       "                  18              22           1\n",
       "                  19              6            1\n",
       "                  204             2            1\n",
       "                  378             11           1\n",
       "dtype: int64"
      ]
     },
     "execution_count": 19,
     "metadata": {},
     "output_type": "execute_result"
    }
   ],
   "source": [
    "test[test['experiment_group']=='B'].value_counts()"
   ]
  },
  {
   "cell_type": "code",
   "execution_count": 18,
   "id": "72b35aff",
   "metadata": {},
   "outputs": [
    {
     "data": {
      "text/plain": [
       "<AxesSubplot:ylabel='num_clicks'>"
      ]
     },
     "execution_count": 18,
     "metadata": {},
     "output_type": "execute_result"
    },
    {
     "data": {
      "image/png": "[encoded data removed]",
      "text/plain": [
       "<Figure size 1008x504 with 1 Axes>"
      ]
     },
     "metadata": {},
     "output_type": "display_data"
    }
   ],
   "source": [
    "make_valuecount_chart(df,'num_clicks','linechart')\n"
   ]
  },
  {
   "cell_type": "code",
   "execution_count": 66,
   "id": "0f70ab88",
   "metadata": {},
   "outputs": [
    {
     "data": {
      "text/plain": [
       "<AxesSubplot:ylabel='num_exported_results'>"
      ]
     },
     "execution_count": 66,
     "metadata": {},
     "output_type": "execute_result"
    },
    {
     "data": {
      "image/png": "[encoded data removed]",
      "text/plain": [
       "<Figure size 432x288 with 1 Axes>"
      ]
     },
     "metadata": {
      "needs_background": "light"
     },
     "output_type": "display_data"
    }
   ],
   "source": [
    "make_valuecount_chart(df,'num_exported_results','linechart')"
   ]
  },
  {
   "cell_type": "code",
   "execution_count": 67,
   "id": "2d4353cb",
   "metadata": {},
   "outputs": [
    {
     "data": {
      "text/plain": [
       "<AxesSubplot:ylabel='num_licenses'>"
      ]
     },
     "execution_count": 67,
     "metadata": {},
     "output_type": "execute_result"
    },
    {
     "data": {
      "image/png": "[encoded data removed]",
      "text/plain": [
       "<Figure size 432x288 with 1 Axes>"
      ]
     },
     "metadata": {
      "needs_background": "light"
     },
     "output_type": "display_data"
    }
   ],
   "source": [
    "make_valuecount_chart(df,'num_licenses','linechart')\n"
   ]
  },
  {
   "cell_type": "code",
   "execution_count": 54,
   "id": "82be9cbf",
   "metadata": {},
   "outputs": [],
   "source": [
    "# Drop exp group = s\n",
    "\n",
    "filter_group_s=(df['experiment_group'] == 'S')\n",
    "\n",
    "df.drop(index = df[filter_group_s].index, inplace = True) \n",
    "\n"
   ]
  },
  {
   "cell_type": "markdown",
   "id": "3ea12d4d",
   "metadata": {},
   "source": [
    "### Investigate time serise trend by group a vs group b \n",
    "\n",
    "* Scan any intersting trend from time sereis"
   ]
  },
  {
   "cell_type": "code",
   "execution_count": 55,
   "id": "cf6e96d6",
   "metadata": {},
   "outputs": [],
   "source": [
    "def ab_comparison_chart(dataset, metric_type, group_column, metric_column, xaxis_column):\n",
    "    \"\"\"Create a A/B test group comparison line chart\"\"\"\n",
    "    \n",
    "    plot_data = dataset.groupby([group_column, xaxis_column]).agg({metric_column: metric_type})\n",
    "    \n",
    "    return sns.lineplot(data = plot_data, x = xaxis_column, y = metric_column, hue = group_column)\n",
    "   "
   ]
  },
  {
   "cell_type": "code",
   "execution_count": 56,
   "id": "29c5932e",
   "metadata": {},
   "outputs": [
    {
     "data": {
      "text/plain": [
       "<AxesSubplot:xlabel='experiment_day', ylabel='search_id'>"
      ]
     },
     "execution_count": 56,
     "metadata": {},
     "output_type": "execute_result"
    },
    {
     "data": {
      "image/png": "[encoded data removed]",
      "text/plain": [
       "<Figure size 1008x504 with 1 Axes>"
      ]
     },
     "metadata": {},
     "output_type": "display_data"
    }
   ],
   "source": [
    "# Check daily search volume\n",
    "ab_comparison_chart (    \n",
    "    dataset = df,\n",
    "    metric_type = 'count',\n",
    "    group_column = 'experiment_group',\n",
    "    metric_column = 'search_id',\n",
    "    xaxis_column = 'experiment_day'\n",
    ")\n"
   ]
  },
  {
   "cell_type": "code",
   "execution_count": 57,
   "id": "40cd84c3",
   "metadata": {},
   "outputs": [
    {
     "data": {
      "text/plain": [
       "<AxesSubplot:xlabel='experiment_day', ylabel='num_clicks'>"
      ]
     },
     "execution_count": 57,
     "metadata": {},
     "output_type": "execute_result"
    },
    {
     "data": {
      "image/png": "[encoded data removed]",
      "text/plain": [
       "<Figure size 1008x504 with 1 Axes>"
      ]
     },
     "metadata": {},
     "output_type": "display_data"
    }
   ],
   "source": [
    "# Check click volume volume\n",
    "ab_comparison_chart (    \n",
    "    dataset = df,\n",
    "    metric_type = 'sum',\n",
    "    group_column = 'experiment_group',\n",
    "    metric_column = 'num_clicks',\n",
    "    xaxis_column = 'experiment_day'\n",
    ")\n"
   ]
  },
  {
   "cell_type": "markdown",
   "id": "8effb9c7",
   "metadata": {},
   "source": [
    "##### Thoughts: Closed to 0 clicks during between day between approx. 23th-35th day. This could be caused by data issue or it's public holiday and no one clicks/download the data. "
   ]
  },
  {
   "cell_type": "markdown",
   "id": "effc067b",
   "metadata": {},
   "source": [
    "### Other outliers:  \n",
    "* For Group A - there are searches with no manual elevations \n",
    "* For Group B - There are searches with manual elevations"
   ]
  },
  {
   "cell_type": "code",
   "execution_count": 14,
   "id": "27a0d29e",
   "metadata": {},
   "outputs": [
    {
     "data": {
      "text/plain": [
       "9688"
      ]
     },
     "execution_count": 14,
     "metadata": {},
     "output_type": "execute_result"
    }
   ],
   "source": [
    "# Group A supposed to be with elevations but some searches have 0 manual elevatsions\n",
    "\n",
    "filter_groupa_outliers = ((df['experiment_group'] == 'A' ) & (df['num_elevations'] == 0 )) \n",
    "\n",
    "len(df[filter_groupa_outliers])"
   ]
  },
  {
   "cell_type": "code",
   "execution_count": 50,
   "id": "2861b29d",
   "metadata": {},
   "outputs": [
    {
     "data": {
      "text/plain": [
       "58"
      ]
     },
     "execution_count": 50,
     "metadata": {},
     "output_type": "execute_result"
    }
   ],
   "source": [
    "# Group A supposed to be with full elevations but some searches have >0 manual elevatsions\n",
    "\n",
    "filter_groupb_outliers = ( df['experiment_group'] == 'B') & (df['num_elevations'] > 0 )\n",
    "\n",
    "len(df[filter_groupb_outliers])"
   ]
  },
  {
   "cell_type": "markdown",
   "id": "01396f52",
   "metadata": {},
   "source": [
    "# User level test"
   ]
  },
  {
   "cell_type": "markdown",
   "id": "0ffbfdc1",
   "metadata": {},
   "source": [
    "### Look at user-level clicks/exports/license stats\n",
    "\n",
    "* creat user-level full manual vs auto groups\n",
    "* create raw data clicks/exports/license per search stats \n",
    "\n",
    "* raw data format: \n",
    "\n",
    "**********************\n",
    "* userid | \n",
    "\n",
    "* metrics: searchs | # Total clicks/export/licences\n"
   ]
  },
  {
   "cell_type": "code",
   "execution_count": 21,
   "id": "b8531251",
   "metadata": {},
   "outputs": [],
   "source": [
    "# summarize user level stats\n",
    "\n",
    "user_df = df.groupby(['user_id']).agg(\n",
    "    {'num_elevations':'sum',\n",
    "    'num_clicks':'sum',\n",
    "    'num_exported_results':'sum',\n",
    "     'num_licenses':'sum',\n",
    "     'search_id': 'count'\n",
    "    })"
   ]
  },
  {
   "cell_type": "code",
   "execution_count": 23,
   "id": "5638403e",
   "metadata": {},
   "outputs": [],
   "source": [
    "#rename the columsn for total seach volume\n",
    "\n",
    "user_df.rename(columns={'search_id':'num_searches'}, inplace = True)"
   ]
  },
  {
   "cell_type": "code",
   "execution_count": 24,
   "id": "691dd426",
   "metadata": {},
   "outputs": [
    {
     "data": {
      "text/plain": [
       "0    280577\n",
       "1    279473\n",
       "Name: flag_elevations, dtype: int64"
      ]
     },
     "execution_count": 24,
     "metadata": {},
     "output_type": "execute_result"
    }
   ],
   "source": [
    "# Check if it's sensible to creat manual vs auto AB testing at user level\n",
    "# add succesfuluy flags for user level data\n",
    "\n",
    "def success_flag(variable):\n",
    "    if variable > 0: \n",
    "        return 1 \n",
    "    else: \n",
    "        return 0 \n",
    "\n",
    "user_df['flag_elevations'] =  user_df['num_elevations'].apply(success_flag)     \n",
    "user_df['flag_elevations'].value_counts()"
   ]
  },
  {
   "cell_type": "code",
   "execution_count": 25,
   "id": "31c3d3f9",
   "metadata": {},
   "outputs": [],
   "source": [
    "def test_group_assign(variable):\n",
    "    if variable > 0:\n",
    "        return 'With manual'\n",
    "    else: \n",
    "        return 'Full automation'\n",
    "\n",
    "user_df['New_Exp_group'] = user_df['flag_elevations'].apply(test_group_assign)"
   ]
  },
  {
   "cell_type": "code",
   "execution_count": 26,
   "id": "5695900f",
   "metadata": {},
   "outputs": [],
   "source": [
    "# add the values of search clicks success rate \n",
    "\n",
    "df['click_success'] =  df['num_clicks'].apply(success_flag)     \n",
    "df['exported_results_success'] =  df['num_exported_results'].apply(success_flag)     \n",
    "df['licenses_success'] = df['num_licenses'].apply(success_flag)     \n"
   ]
  },
  {
   "cell_type": "code",
   "execution_count": 27,
   "id": "477dd871",
   "metadata": {},
   "outputs": [],
   "source": [
    "# create a dataset of overall success clicks/exports/licences\n",
    "\n",
    "user_df_success = df.groupby('user_id').agg (\n",
    "                  {'click_success': 'sum',\n",
    "                  'exported_results_success': 'sum',\n",
    "                  'licenses_success': 'sum'                  \n",
    "                  })"
   ]
  },
  {
   "cell_type": "code",
   "execution_count": 28,
   "id": "5cf3d7e6",
   "metadata": {},
   "outputs": [
    {
     "data": {
      "text/html": [
       "<div>\n",
       "<style scoped>\n",
       "    .dataframe tbody tr th:only-of-type {\n",
       "        vertical-align: middle;\n",
       "    }\n",
       "\n",
       "    .dataframe tbody tr th {\n",
       "        vertical-align: top;\n",
       "    }\n",
       "\n",
       "    .dataframe thead th {\n",
       "        text-align: right;\n",
       "    }\n",
       "</style>\n",
       "<table border=\"1\" class=\"dataframe\">\n",
       "  <thead>\n",
       "    <tr style=\"text-align: right;\">\n",
       "      <th></th>\n",
       "      <th>num_elevations</th>\n",
       "      <th>num_clicks</th>\n",
       "      <th>num_exported_results</th>\n",
       "      <th>num_licenses</th>\n",
       "      <th>num_searches</th>\n",
       "      <th>flag_elevations</th>\n",
       "      <th>New_Exp_group</th>\n",
       "      <th>click_success</th>\n",
       "      <th>exported_results_success</th>\n",
       "      <th>licenses_success</th>\n",
       "    </tr>\n",
       "    <tr>\n",
       "      <th>user_id</th>\n",
       "      <th></th>\n",
       "      <th></th>\n",
       "      <th></th>\n",
       "      <th></th>\n",
       "      <th></th>\n",
       "      <th></th>\n",
       "      <th></th>\n",
       "      <th></th>\n",
       "      <th></th>\n",
       "      <th></th>\n",
       "    </tr>\n",
       "  </thead>\n",
       "  <tbody>\n",
       "    <tr>\n",
       "      <th>00000427</th>\n",
       "      <td>39</td>\n",
       "      <td>0</td>\n",
       "      <td>0</td>\n",
       "      <td>0</td>\n",
       "      <td>1</td>\n",
       "      <td>1</td>\n",
       "      <td>With manual</td>\n",
       "      <td>0</td>\n",
       "      <td>0</td>\n",
       "      <td>0</td>\n",
       "    </tr>\n",
       "    <tr>\n",
       "      <th>000006c2</th>\n",
       "      <td>0</td>\n",
       "      <td>2</td>\n",
       "      <td>0</td>\n",
       "      <td>0</td>\n",
       "      <td>2</td>\n",
       "      <td>0</td>\n",
       "      <td>Full automation</td>\n",
       "      <td>2</td>\n",
       "      <td>0</td>\n",
       "      <td>0</td>\n",
       "    </tr>\n",
       "    <tr>\n",
       "      <th>000017f9</th>\n",
       "      <td>0</td>\n",
       "      <td>0</td>\n",
       "      <td>0</td>\n",
       "      <td>0</td>\n",
       "      <td>1</td>\n",
       "      <td>0</td>\n",
       "      <td>Full automation</td>\n",
       "      <td>0</td>\n",
       "      <td>0</td>\n",
       "      <td>0</td>\n",
       "    </tr>\n",
       "    <tr>\n",
       "      <th>00002e66</th>\n",
       "      <td>22</td>\n",
       "      <td>0</td>\n",
       "      <td>0</td>\n",
       "      <td>0</td>\n",
       "      <td>2</td>\n",
       "      <td>1</td>\n",
       "      <td>With manual</td>\n",
       "      <td>0</td>\n",
       "      <td>0</td>\n",
       "      <td>0</td>\n",
       "    </tr>\n",
       "    <tr>\n",
       "      <th>00004087</th>\n",
       "      <td>0</td>\n",
       "      <td>0</td>\n",
       "      <td>0</td>\n",
       "      <td>0</td>\n",
       "      <td>1</td>\n",
       "      <td>0</td>\n",
       "      <td>Full automation</td>\n",
       "      <td>0</td>\n",
       "      <td>0</td>\n",
       "      <td>0</td>\n",
       "    </tr>\n",
       "  </tbody>\n",
       "</table>\n",
       "</div>"
      ],
      "text/plain": [
       "          num_elevations  num_clicks  num_exported_results  num_licenses  \\\n",
       "user_id                                                                    \n",
       "00000427              39           0                     0             0   \n",
       "000006c2               0           2                     0             0   \n",
       "000017f9               0           0                     0             0   \n",
       "00002e66              22           0                     0             0   \n",
       "00004087               0           0                     0             0   \n",
       "\n",
       "          num_searches  flag_elevations    New_Exp_group  click_success  \\\n",
       "user_id                                                                   \n",
       "00000427             1                1      With manual              0   \n",
       "000006c2             2                0  Full automation              2   \n",
       "000017f9             1                0  Full automation              0   \n",
       "00002e66             2                1      With manual              0   \n",
       "00004087             1                0  Full automation              0   \n",
       "\n",
       "          exported_results_success  licenses_success  \n",
       "user_id                                               \n",
       "00000427                         0                 0  \n",
       "000006c2                         0                 0  \n",
       "000017f9                         0                 0  \n",
       "00002e66                         0                 0  \n",
       "00004087                         0                 0  "
      ]
     },
     "execution_count": 28,
     "metadata": {},
     "output_type": "execute_result"
    }
   ],
   "source": [
    "# merge no. of clicks success with \n",
    "\n",
    "user_aggregated_dataset = user_df.merge(user_df_success, on = 'user_id',how='left')\n",
    "\n",
    "user_aggregated_dataset.head()"
   ]
  },
  {
   "cell_type": "markdown",
   "id": "41186632",
   "metadata": {},
   "source": [
    "## Final AB signficance test\n",
    "\n",
    "* Get final test dataset ready to include\n",
    "user_id, total search:\n",
    "% searches that are successful/exported/licenced \n",
    "+ \n",
    "Avg volume click/exports/lices per users\n",
    "\n",
    "* Test hypohthese \n",
    "* Hypothesies A:  \n",
    "* Does full automatoin make users to have more usages of pics?\n",
    "\n",
    "* Hypothesies B:  \n",
    "* Does full automatoin make users to more licence revenue?\n",
    "\n"
   ]
  },
  {
   "cell_type": "code",
   "execution_count": 29,
   "id": "23912517",
   "metadata": {},
   "outputs": [],
   "source": [
    "# Prepare the final data\n",
    "\n",
    "user_aggregated_dataset['exports_rate']=user_aggregated_dataset['exported_results_success']/user_aggregated_dataset['num_searches']\n",
    "user_aggregated_dataset['click_rate']=user_aggregated_dataset['click_success']/user_aggregated_dataset['num_searches']\n",
    "user_aggregated_dataset['license_rate']=user_aggregated_dataset['licenses_success']/user_aggregated_dataset['num_searches']\n",
    "user_aggregated_dataset['avg_exports']=user_aggregated_dataset['num_exported_results']/user_aggregated_dataset['num_searches']\n",
    "user_aggregated_dataset['avg_clicks']=user_aggregated_dataset['num_clicks']/user_aggregated_dataset['num_searches']\n",
    "user_aggregated_dataset['avg_licenses']=user_aggregated_dataset['num_licenses']/user_aggregated_dataset['num_searches']\n",
    "\n",
    "\n"
   ]
  },
  {
   "cell_type": "code",
   "execution_count": 31,
   "id": "a0d8be4b",
   "metadata": {},
   "outputs": [
    {
     "data": {
      "text/html": [
       "<div>\n",
       "<style scoped>\n",
       "    .dataframe tbody tr th:only-of-type {\n",
       "        vertical-align: middle;\n",
       "    }\n",
       "\n",
       "    .dataframe tbody tr th {\n",
       "        vertical-align: top;\n",
       "    }\n",
       "\n",
       "    .dataframe thead th {\n",
       "        text-align: right;\n",
       "    }\n",
       "</style>\n",
       "<table border=\"1\" class=\"dataframe\">\n",
       "  <thead>\n",
       "    <tr style=\"text-align: right;\">\n",
       "      <th></th>\n",
       "      <th>exports_rate</th>\n",
       "      <th>click_rate</th>\n",
       "      <th>license_rate</th>\n",
       "      <th>avg_exports</th>\n",
       "      <th>avg_clicks</th>\n",
       "      <th>avg_licenses</th>\n",
       "    </tr>\n",
       "    <tr>\n",
       "      <th>New_Exp_group</th>\n",
       "      <th></th>\n",
       "      <th></th>\n",
       "      <th></th>\n",
       "      <th></th>\n",
       "      <th></th>\n",
       "      <th></th>\n",
       "    </tr>\n",
       "  </thead>\n",
       "  <tbody>\n",
       "    <tr>\n",
       "      <th>Full automation</th>\n",
       "      <td>0.252342</td>\n",
       "      <td>0.537350</td>\n",
       "      <td>0.016356</td>\n",
       "      <td>0.301714</td>\n",
       "      <td>1.072212</td>\n",
       "      <td>0.019723</td>\n",
       "    </tr>\n",
       "    <tr>\n",
       "      <th>With manual</th>\n",
       "      <td>0.248379</td>\n",
       "      <td>0.501397</td>\n",
       "      <td>0.013576</td>\n",
       "      <td>0.305267</td>\n",
       "      <td>1.000787</td>\n",
       "      <td>0.016933</td>\n",
       "    </tr>\n",
       "  </tbody>\n",
       "</table>\n",
       "</div>"
      ],
      "text/plain": [
       "                 exports_rate  click_rate  license_rate  avg_exports  \\\n",
       "New_Exp_group                                                          \n",
       "Full automation      0.252342    0.537350      0.016356     0.301714   \n",
       "With manual          0.248379    0.501397      0.013576     0.305267   \n",
       "\n",
       "                 avg_clicks  avg_licenses  \n",
       "New_Exp_group                              \n",
       "Full automation    1.072212      0.019723  \n",
       "With manual        1.000787      0.016933  "
      ]
     },
     "execution_count": 31,
     "metadata": {},
     "output_type": "execute_result"
    }
   ],
   "source": [
    "user_aggregated_dataset.groupby('New_Exp_group').agg(\n",
    "                                 {'exports_rate':'mean',\n",
    "                                  'click_rate':'mean',\n",
    "                                  'license_rate':'mean',\n",
    "                                  'avg_exports': 'mean',\n",
    "                                  'avg_clicks' : 'mean',\n",
    "                                  'avg_licenses': 'mean'\n",
    "                               })"
   ]
  },
  {
   "cell_type": "code",
   "execution_count": 44,
   "id": "d34be973",
   "metadata": {},
   "outputs": [
    {
     "name": "stdout",
     "output_type": "stream",
     "text": [
      "Ttest_indResult(statistic=-10.367192751637477, pvalue=3.5148655291250334e-25)\n",
      "Ttest_indResult(statistic=-4.054496333217773, pvalue=5.02492221978442e-05)\n"
     ]
    }
   ],
   "source": [
    "# Hypothesies A:\n",
    "#Does full automatoin search algo lead to have more usages (clicks and exports) of pics? \n",
    " \n",
    "print(\n",
    "    ttest_ind(\n",
    "    a = user_aggregated_dataset.query(\"New_Exp_group == 'With manual'\")[\"click_success\"].to_list(),\n",
    "    b = user_aggregated_dataset.query(\"New_Exp_group == 'Full automation'\")[\"click_success\"].to_list()\n",
    "))\n",
    "\n",
    "print(\n",
    "ttest_ind(\n",
    "    a = user_aggregated_dataset.query(\"New_Exp_group == 'With manual'\")[\"exports_rate\"].to_list(),\n",
    "    b = user_aggregated_dataset.query(\"New_Exp_group == 'Full automation'\")[\"exports_rate\"].to_list()\n",
    "))"
   ]
  },
  {
   "cell_type": "markdown",
   "id": "a174a77c",
   "metadata": {},
   "source": [
    "#### Thoughts: Click/Export/License rate all have good uplift"
   ]
  },
  {
   "cell_type": "code",
   "execution_count": 45,
   "id": "9f1a0aad",
   "metadata": {},
   "outputs": [
    {
     "data": {
      "text/plain": [
       "Ttest_indResult(statistic=-8.34804673441086, pvalue=6.955602519569883e-17)"
      ]
     },
     "execution_count": 45,
     "metadata": {},
     "output_type": "execute_result"
    }
   ],
   "source": [
    "#Hypothesies B:\n",
    "\n",
    "#Does full automatoin make users to more licenced picture purchase?\n",
    "\n",
    "ttest_ind(\n",
    "    a = user_aggregated_dataset.query(\"New_Exp_group == 'With manual'\")[\"avg_licenses\"].to_list(),\n",
    "    b = user_aggregated_dataset.query(\"New_Exp_group == 'Full automation'\")[\"avg_licenses\"].to_list()\n",
    ")\n",
    "\n"
   ]
  },
  {
   "cell_type": "code",
   "execution_count": 53,
   "id": "76b0c117",
   "metadata": {},
   "outputs": [
    {
     "name": "stdout",
     "output_type": "stream",
     "text": [
      "if this expreiment scale to 10 m user 27902.29800033385 more pics will be purcahsed in 10 weeks\n"
     ]
    }
   ],
   "source": [
    "# quick calculation: If we roll out this auto-algo to x m users - #increamental of pictures will be bought?\n",
    "\n",
    "licence_manual = user_aggregated_dataset.query(\"New_Exp_group == 'With manual'\")[\"avg_licenses\"].mean()\n",
    "\n",
    "licence_auto = user_aggregated_dataset.query(\"New_Exp_group == 'Full automation'\")[\"avg_licenses\"].mean()\n",
    "\n",
    "licence_uplift = licence_auto - licence_manual\n",
    "\n",
    "future_users_with_autosearch = 10000000\n",
    "\n",
    "print(\"if this expreiment scale to 10 m user\", str(licence_uplift * future_users_with_autosearch), \"more pics will be purcahsed in 10 weeks\")\n"
   ]
  },
  {
   "cell_type": "markdown",
   "id": "0d286dfb",
   "metadata": {},
   "source": [
    "## Search level - find top performing click/export/ per search \n",
    "\n",
    "* Analyze clicks/export/licence rate per key words at search level\n"
   ]
  },
  {
   "cell_type": "code",
   "execution_count": 58,
   "id": "b051cc80",
   "metadata": {},
   "outputs": [],
   "source": [
    "#  clicks/export/licence rate per key words at search level\n",
    "# reset A/B group due to the data oultliers\n",
    "\n",
    "df['new_test_group'] = df['num_elevations'].apply(test_group_assign)\n",
    "df['click_success'] =  df['num_clicks'].apply(success_flag)     \n",
    "df['exported_results_success'] =  df['num_exported_results'].apply(success_flag)     \n",
    "df['licenses_success'] = df['num_licenses'].apply(success_flag)     \n",
    "\n",
    "\n"
   ]
  },
  {
   "cell_type": "code",
   "execution_count": 61,
   "id": "2c35619c",
   "metadata": {},
   "outputs": [
    {
     "data": {
      "text/plain": [
       "arrow        125073\n",
       "heart         74711\n",
       "line          73020\n",
       "instagram     68535\n",
       "flowers       66912\n",
       "circle        57948\n",
       "square        45159\n",
       "rectangle     44657\n",
       "banner        42873\n",
       "money         38296\n",
       "star          38130\n",
       "border        37559\n",
       "birthday      36279\n",
       "house         32020\n",
       "computer      31334\n",
       "stars         30137\n",
       "water         30013\n",
       "coffee        28267\n",
       "lines         26476\n",
       "frame         25429\n",
       "Name: query, dtype: int64"
      ]
     },
     "execution_count": 61,
     "metadata": {},
     "output_type": "execute_result"
    }
   ],
   "source": [
    "# For each query, summarize the data \n",
    "df['query'].value_counts().sort_values(ascending = False).head(20)"
   ]
  },
  {
   "cell_type": "code",
   "execution_count": null,
   "id": "e16d14ed",
   "metadata": {},
   "outputs": [],
   "source": []
  },
  {
   "cell_type": "code",
   "execution_count": 74,
   "id": "77de8f84",
   "metadata": {},
   "outputs": [
    {
     "data": {
      "text/html": [
       "<div>\n",
       "<style scoped>\n",
       "    .dataframe tbody tr th:only-of-type {\n",
       "        vertical-align: middle;\n",
       "    }\n",
       "\n",
       "    .dataframe tbody tr th {\n",
       "        vertical-align: top;\n",
       "    }\n",
       "\n",
       "    .dataframe thead th {\n",
       "        text-align: right;\n",
       "    }\n",
       "</style>\n",
       "<table border=\"1\" class=\"dataframe\">\n",
       "  <thead>\n",
       "    <tr style=\"text-align: right;\">\n",
       "      <th></th>\n",
       "      <th>query</th>\n",
       "      <th>new_test_group</th>\n",
       "      <th>search_id</th>\n",
       "      <th>click_success</th>\n",
       "      <th>exported_results_success</th>\n",
       "      <th>licenses_success</th>\n",
       "    </tr>\n",
       "  </thead>\n",
       "  <tbody>\n",
       "    <tr>\n",
       "      <th>0</th>\n",
       "      <td>brand:BABCTFGu9Rg^100 tropical</td>\n",
       "      <td>With manual</td>\n",
       "      <td>2</td>\n",
       "      <td>0</td>\n",
       "      <td>0</td>\n",
       "      <td>0</td>\n",
       "    </tr>\n",
       "    <tr>\n",
       "      <th>1</th>\n",
       "      <td>vintage</td>\n",
       "      <td>With manual</td>\n",
       "      <td>1</td>\n",
       "      <td>0</td>\n",
       "      <td>0</td>\n",
       "      <td>0</td>\n",
       "    </tr>\n",
       "    <tr>\n",
       "      <th>2</th>\n",
       "      <td>20% text</td>\n",
       "      <td>Full automation</td>\n",
       "      <td>79</td>\n",
       "      <td>14</td>\n",
       "      <td>0</td>\n",
       "      <td>0</td>\n",
       "    </tr>\n",
       "    <tr>\n",
       "      <th>3</th>\n",
       "      <td>20% text</td>\n",
       "      <td>With manual</td>\n",
       "      <td>138</td>\n",
       "      <td>97</td>\n",
       "      <td>3</td>\n",
       "      <td>0</td>\n",
       "    </tr>\n",
       "    <tr>\n",
       "      <th>4</th>\n",
       "      <td>4th of july</td>\n",
       "      <td>Full automation</td>\n",
       "      <td>1851</td>\n",
       "      <td>1073</td>\n",
       "      <td>362</td>\n",
       "      <td>89</td>\n",
       "    </tr>\n",
       "  </tbody>\n",
       "</table>\n",
       "</div>"
      ],
      "text/plain": [
       "                             query   new_test_group  search_id  click_success  \\\n",
       "0   brand:BABCTFGu9Rg^100 tropical      With manual          2              0   \n",
       "1                          vintage      With manual          1              0   \n",
       "2                         20% text  Full automation         79             14   \n",
       "3                         20% text      With manual        138             97   \n",
       "4                      4th of july  Full automation       1851           1073   \n",
       "\n",
       "   exported_results_success  licenses_success  \n",
       "0                         0                 0  \n",
       "1                         0                 0  \n",
       "2                         0                 0  \n",
       "3                         3                 0  \n",
       "4                       362                89  "
      ]
     },
     "execution_count": 74,
     "metadata": {},
     "output_type": "execute_result"
    }
   ],
   "source": [
    "query_df = df.groupby(['query','new_test_group']).agg(\n",
    "    {'search_id': 'count',\n",
    "     'click_success': 'sum',\n",
    "     'exported_results_success': 'sum',\n",
    "     'licenses_success': 'sum'\n",
    "    })\n",
    "\n",
    "query_df.reset_index(inplace = True)\n",
    "\n",
    "query_df.head()\n",
    "\n"
   ]
  },
  {
   "cell_type": "code",
   "execution_count": 84,
   "id": "15ccbd21",
   "metadata": {},
   "outputs": [
    {
     "data": {
      "text/html": [
       "<div>\n",
       "<style scoped>\n",
       "    .dataframe tbody tr th:only-of-type {\n",
       "        vertical-align: middle;\n",
       "    }\n",
       "\n",
       "    .dataframe tbody tr th {\n",
       "        vertical-align: top;\n",
       "    }\n",
       "\n",
       "    .dataframe thead th {\n",
       "        text-align: right;\n",
       "    }\n",
       "</style>\n",
       "<table border=\"1\" class=\"dataframe\">\n",
       "  <thead>\n",
       "    <tr style=\"text-align: right;\">\n",
       "      <th></th>\n",
       "      <th>query</th>\n",
       "      <th>new_test_group_manual</th>\n",
       "      <th>search_id_manual</th>\n",
       "      <th>click_success_manual</th>\n",
       "      <th>exported_results_success_manual</th>\n",
       "      <th>licenses_success_manual</th>\n",
       "      <th>new_test_group_auto</th>\n",
       "      <th>search_id_auto</th>\n",
       "      <th>click_success_auto</th>\n",
       "      <th>exported_results_success_auto</th>\n",
       "      <th>licenses_success_auto</th>\n",
       "    </tr>\n",
       "  </thead>\n",
       "  <tbody>\n",
       "    <tr>\n",
       "      <th>0</th>\n",
       "      <td>20% text</td>\n",
       "      <td>With manual</td>\n",
       "      <td>138</td>\n",
       "      <td>97</td>\n",
       "      <td>3</td>\n",
       "      <td>0</td>\n",
       "      <td>Full automation</td>\n",
       "      <td>79</td>\n",
       "      <td>14</td>\n",
       "      <td>0</td>\n",
       "      <td>0</td>\n",
       "    </tr>\n",
       "    <tr>\n",
       "      <th>1</th>\n",
       "      <td>4th of july</td>\n",
       "      <td>With manual</td>\n",
       "      <td>1756</td>\n",
       "      <td>858</td>\n",
       "      <td>371</td>\n",
       "      <td>38</td>\n",
       "      <td>Full automation</td>\n",
       "      <td>1851</td>\n",
       "      <td>1073</td>\n",
       "      <td>362</td>\n",
       "      <td>89</td>\n",
       "    </tr>\n",
       "    <tr>\n",
       "      <th>2</th>\n",
       "      <td>Abstract</td>\n",
       "      <td>With manual</td>\n",
       "      <td>11</td>\n",
       "      <td>0</td>\n",
       "      <td>0</td>\n",
       "      <td>0</td>\n",
       "      <td>Full automation</td>\n",
       "      <td>4</td>\n",
       "      <td>0</td>\n",
       "      <td>0</td>\n",
       "      <td>0</td>\n",
       "    </tr>\n",
       "    <tr>\n",
       "      <th>3</th>\n",
       "      <td>Animals</td>\n",
       "      <td>With manual</td>\n",
       "      <td>28</td>\n",
       "      <td>8</td>\n",
       "      <td>6</td>\n",
       "      <td>1</td>\n",
       "      <td>Full automation</td>\n",
       "      <td>26</td>\n",
       "      <td>6</td>\n",
       "      <td>1</td>\n",
       "      <td>0</td>\n",
       "    </tr>\n",
       "    <tr>\n",
       "      <th>4</th>\n",
       "      <td>Arrow</td>\n",
       "      <td>With manual</td>\n",
       "      <td>766</td>\n",
       "      <td>528</td>\n",
       "      <td>325</td>\n",
       "      <td>8</td>\n",
       "      <td>Full automation</td>\n",
       "      <td>765</td>\n",
       "      <td>532</td>\n",
       "      <td>323</td>\n",
       "      <td>24</td>\n",
       "    </tr>\n",
       "  </tbody>\n",
       "</table>\n",
       "</div>"
      ],
      "text/plain": [
       "         query new_test_group_manual  search_id_manual  click_success_manual  \\\n",
       "0     20% text           With manual               138                    97   \n",
       "1  4th of july           With manual              1756                   858   \n",
       "2     Abstract           With manual                11                     0   \n",
       "3      Animals           With manual                28                     8   \n",
       "4        Arrow           With manual               766                   528   \n",
       "\n",
       "   exported_results_success_manual  licenses_success_manual  \\\n",
       "0                                3                        0   \n",
       "1                              371                       38   \n",
       "2                                0                        0   \n",
       "3                                6                        1   \n",
       "4                              325                        8   \n",
       "\n",
       "  new_test_group_auto  search_id_auto  click_success_auto  \\\n",
       "0     Full automation              79                  14   \n",
       "1     Full automation            1851                1073   \n",
       "2     Full automation               4                   0   \n",
       "3     Full automation              26                   6   \n",
       "4     Full automation             765                 532   \n",
       "\n",
       "   exported_results_success_auto  licenses_success_auto  \n",
       "0                              0                      0  \n",
       "1                            362                     89  \n",
       "2                              0                      0  \n",
       "3                              1                      0  \n",
       "4                            323                     24  "
      ]
     },
     "execution_count": 84,
     "metadata": {},
     "output_type": "execute_result"
    }
   ],
   "source": [
    "query_df_manual = query_df [query_df['new_test_group'] == 'With manual']\n",
    "query_df_auto = query_df [query_df['new_test_group'] == 'Full automation']\n",
    "\n",
    "query_df_auto.head()\n",
    "\n",
    "query_df_fulldata = query_df_manual.merge(query_df_auto, \n",
    "                                          on = 'query', how = 'inner', \n",
    "                                           suffixes = ('_manual', '_auto'))\n",
    "\n",
    "query_df_fulldata.fillna(0, inplace = True)\n",
    "\n",
    "query_df_fulldata.head()\n",
    "\n"
   ]
  },
  {
   "cell_type": "code",
   "execution_count": 192,
   "id": "2a42adab",
   "metadata": {},
   "outputs": [
    {
     "data": {
      "text/html": [
       "<div>\n",
       "<style scoped>\n",
       "    .dataframe tbody tr th:only-of-type {\n",
       "        vertical-align: middle;\n",
       "    }\n",
       "\n",
       "    .dataframe tbody tr th {\n",
       "        vertical-align: top;\n",
       "    }\n",
       "\n",
       "    .dataframe thead th {\n",
       "        text-align: right;\n",
       "    }\n",
       "</style>\n",
       "<table border=\"1\" class=\"dataframe\">\n",
       "  <thead>\n",
       "    <tr style=\"text-align: right;\">\n",
       "      <th></th>\n",
       "      <th>query</th>\n",
       "      <th>new_test_group_manual</th>\n",
       "      <th>search_id_manual</th>\n",
       "      <th>click_success_manual</th>\n",
       "      <th>exported_results_success_manual</th>\n",
       "      <th>licenses_success_manual</th>\n",
       "      <th>new_test_group_auto</th>\n",
       "      <th>search_id_auto</th>\n",
       "      <th>click_success_auto</th>\n",
       "      <th>exported_results_success_auto</th>\n",
       "      <th>licenses_success_auto</th>\n",
       "      <th>click_success_rate_manual</th>\n",
       "      <th>export_success_rate_manual</th>\n",
       "      <th>license_success_rate_manual</th>\n",
       "      <th>click_success_rate_auto</th>\n",
       "      <th>export_success_rate_auto</th>\n",
       "      <th>license_success_rate_auto</th>\n",
       "    </tr>\n",
       "  </thead>\n",
       "  <tbody>\n",
       "    <tr>\n",
       "      <th>0</th>\n",
       "      <td>20% text</td>\n",
       "      <td>With manual</td>\n",
       "      <td>138</td>\n",
       "      <td>97</td>\n",
       "      <td>3</td>\n",
       "      <td>0</td>\n",
       "      <td>Full automation</td>\n",
       "      <td>79</td>\n",
       "      <td>14</td>\n",
       "      <td>0</td>\n",
       "      <td>0</td>\n",
       "      <td>0.702899</td>\n",
       "      <td>0.021739</td>\n",
       "      <td>0.000000</td>\n",
       "      <td>0.101449</td>\n",
       "      <td>0.000000</td>\n",
       "      <td>0.000000</td>\n",
       "    </tr>\n",
       "    <tr>\n",
       "      <th>1</th>\n",
       "      <td>4th of july</td>\n",
       "      <td>With manual</td>\n",
       "      <td>1756</td>\n",
       "      <td>858</td>\n",
       "      <td>371</td>\n",
       "      <td>38</td>\n",
       "      <td>Full automation</td>\n",
       "      <td>1851</td>\n",
       "      <td>1073</td>\n",
       "      <td>362</td>\n",
       "      <td>89</td>\n",
       "      <td>0.488610</td>\n",
       "      <td>0.211276</td>\n",
       "      <td>0.021640</td>\n",
       "      <td>0.611048</td>\n",
       "      <td>0.206150</td>\n",
       "      <td>0.050683</td>\n",
       "    </tr>\n",
       "    <tr>\n",
       "      <th>2</th>\n",
       "      <td>Abstract</td>\n",
       "      <td>With manual</td>\n",
       "      <td>11</td>\n",
       "      <td>0</td>\n",
       "      <td>0</td>\n",
       "      <td>0</td>\n",
       "      <td>Full automation</td>\n",
       "      <td>4</td>\n",
       "      <td>0</td>\n",
       "      <td>0</td>\n",
       "      <td>0</td>\n",
       "      <td>0.000000</td>\n",
       "      <td>0.000000</td>\n",
       "      <td>0.000000</td>\n",
       "      <td>0.000000</td>\n",
       "      <td>0.000000</td>\n",
       "      <td>0.000000</td>\n",
       "    </tr>\n",
       "    <tr>\n",
       "      <th>3</th>\n",
       "      <td>Animals</td>\n",
       "      <td>With manual</td>\n",
       "      <td>28</td>\n",
       "      <td>8</td>\n",
       "      <td>6</td>\n",
       "      <td>1</td>\n",
       "      <td>Full automation</td>\n",
       "      <td>26</td>\n",
       "      <td>6</td>\n",
       "      <td>1</td>\n",
       "      <td>0</td>\n",
       "      <td>0.285714</td>\n",
       "      <td>0.214286</td>\n",
       "      <td>0.035714</td>\n",
       "      <td>0.214286</td>\n",
       "      <td>0.035714</td>\n",
       "      <td>0.000000</td>\n",
       "    </tr>\n",
       "    <tr>\n",
       "      <th>4</th>\n",
       "      <td>Arrow</td>\n",
       "      <td>With manual</td>\n",
       "      <td>766</td>\n",
       "      <td>528</td>\n",
       "      <td>325</td>\n",
       "      <td>8</td>\n",
       "      <td>Full automation</td>\n",
       "      <td>765</td>\n",
       "      <td>532</td>\n",
       "      <td>323</td>\n",
       "      <td>24</td>\n",
       "      <td>0.689295</td>\n",
       "      <td>0.424282</td>\n",
       "      <td>0.010444</td>\n",
       "      <td>0.694517</td>\n",
       "      <td>0.421671</td>\n",
       "      <td>0.031332</td>\n",
       "    </tr>\n",
       "  </tbody>\n",
       "</table>\n",
       "</div>"
      ],
      "text/plain": [
       "         query new_test_group_manual  search_id_manual  click_success_manual  \\\n",
       "0     20% text           With manual               138                    97   \n",
       "1  4th of july           With manual              1756                   858   \n",
       "2     Abstract           With manual                11                     0   \n",
       "3      Animals           With manual                28                     8   \n",
       "4        Arrow           With manual               766                   528   \n",
       "\n",
       "   exported_results_success_manual  licenses_success_manual  \\\n",
       "0                                3                        0   \n",
       "1                              371                       38   \n",
       "2                                0                        0   \n",
       "3                                6                        1   \n",
       "4                              325                        8   \n",
       "\n",
       "  new_test_group_auto  search_id_auto  click_success_auto  \\\n",
       "0     Full automation              79                  14   \n",
       "1     Full automation            1851                1073   \n",
       "2     Full automation               4                   0   \n",
       "3     Full automation              26                   6   \n",
       "4     Full automation             765                 532   \n",
       "\n",
       "   exported_results_success_auto  licenses_success_auto  \\\n",
       "0                              0                      0   \n",
       "1                            362                     89   \n",
       "2                              0                      0   \n",
       "3                              1                      0   \n",
       "4                            323                     24   \n",
       "\n",
       "   click_success_rate_manual  export_success_rate_manual  \\\n",
       "0                   0.702899                    0.021739   \n",
       "1                   0.488610                    0.211276   \n",
       "2                   0.000000                    0.000000   \n",
       "3                   0.285714                    0.214286   \n",
       "4                   0.689295                    0.424282   \n",
       "\n",
       "   license_success_rate_manual  click_success_rate_auto  \\\n",
       "0                     0.000000                 0.101449   \n",
       "1                     0.021640                 0.611048   \n",
       "2                     0.000000                 0.000000   \n",
       "3                     0.035714                 0.214286   \n",
       "4                     0.010444                 0.694517   \n",
       "\n",
       "   export_success_rate_auto  license_success_rate_auto  \n",
       "0                  0.000000                   0.000000  \n",
       "1                  0.206150                   0.050683  \n",
       "2                  0.000000                   0.000000  \n",
       "3                  0.035714                   0.000000  \n",
       "4                  0.421671                   0.031332  "
      ]
     },
     "execution_count": 192,
     "metadata": {},
     "output_type": "execute_result"
    }
   ],
   "source": [
    "# create click/export/licene conversion rate\n",
    "\n",
    "query_df_fulldata['click_success_rate_manual'] = query_df_fulldata['click_success_manual'] / query_df_fulldata['search_id_manual'] \n",
    "query_df_fulldata['export_success_rate_manual'] = query_df_fulldata['exported_results_success_manual'] / query_df_fulldata['search_id_manual'] \n",
    "query_df_fulldata['license_success_rate_manual'] = query_df_fulldata['licenses_success_manual'] / query_df_fulldata['search_id_manual'] \n",
    "\n",
    "# create click/export/licene conversion rate\n",
    "\n",
    "query_df_fulldata['click_success_rate_auto'] = query_df_fulldata['click_success_auto'] / query_df_fulldata['search_id_manual'] \n",
    "query_df_fulldata['export_success_rate_auto'] = query_df_fulldata['exported_results_success_auto'] / query_df_fulldata['search_id_manual'] \n",
    "query_df_fulldata['license_success_rate_auto'] = query_df_fulldata['licenses_success_auto'] / query_df_fulldata['search_id_manual'] \n",
    "\n",
    "\n",
    "query_df_fulldata.head()\n"
   ]
  },
  {
   "cell_type": "code",
   "execution_count": 214,
   "id": "ec46ea2f",
   "metadata": {},
   "outputs": [
    {
     "data": {
      "text/html": [
       "<div>\n",
       "<style scoped>\n",
       "    .dataframe tbody tr th:only-of-type {\n",
       "        vertical-align: middle;\n",
       "    }\n",
       "\n",
       "    .dataframe tbody tr th {\n",
       "        vertical-align: top;\n",
       "    }\n",
       "\n",
       "    .dataframe thead th {\n",
       "        text-align: right;\n",
       "    }\n",
       "</style>\n",
       "<table border=\"1\" class=\"dataframe\">\n",
       "  <thead>\n",
       "    <tr style=\"text-align: right;\">\n",
       "      <th></th>\n",
       "      <th>query</th>\n",
       "      <th>new_test_group_manual</th>\n",
       "      <th>search_id_manual</th>\n",
       "      <th>click_success_manual</th>\n",
       "      <th>exported_results_success_manual</th>\n",
       "      <th>licenses_success_manual</th>\n",
       "      <th>new_test_group_auto</th>\n",
       "      <th>search_id_auto</th>\n",
       "      <th>click_success_auto</th>\n",
       "      <th>exported_results_success_auto</th>\n",
       "      <th>licenses_success_auto</th>\n",
       "      <th>click_success_rate_manual</th>\n",
       "      <th>export_success_rate_manual</th>\n",
       "      <th>license_success_rate_manual</th>\n",
       "      <th>click_success_rate_auto</th>\n",
       "      <th>export_success_rate_auto</th>\n",
       "      <th>license_success_rate_auto</th>\n",
       "    </tr>\n",
       "  </thead>\n",
       "  <tbody>\n",
       "    <tr>\n",
       "      <th>108</th>\n",
       "      <td>arrow</td>\n",
       "      <td>With manual</td>\n",
       "      <td>61782</td>\n",
       "      <td>43022</td>\n",
       "      <td>27006</td>\n",
       "      <td>1029</td>\n",
       "      <td>Full automation</td>\n",
       "      <td>63291</td>\n",
       "      <td>44055</td>\n",
       "      <td>26720</td>\n",
       "      <td>2606</td>\n",
       "      <td>0.696352</td>\n",
       "      <td>0.437118</td>\n",
       "      <td>0.016655</td>\n",
       "      <td>0.713072</td>\n",
       "      <td>0.432488</td>\n",
       "      <td>0.042181</td>\n",
       "    </tr>\n",
       "  </tbody>\n",
       "</table>\n",
       "</div>"
      ],
      "text/plain": [
       "     query new_test_group_manual  search_id_manual  click_success_manual  \\\n",
       "108  arrow           With manual             61782                 43022   \n",
       "\n",
       "     exported_results_success_manual  licenses_success_manual  \\\n",
       "108                            27006                     1029   \n",
       "\n",
       "    new_test_group_auto  search_id_auto  click_success_auto  \\\n",
       "108     Full automation           63291               44055   \n",
       "\n",
       "     exported_results_success_auto  licenses_success_auto  \\\n",
       "108                          26720                   2606   \n",
       "\n",
       "     click_success_rate_manual  export_success_rate_manual  \\\n",
       "108                   0.696352                    0.437118   \n",
       "\n",
       "     license_success_rate_manual  click_success_rate_auto  \\\n",
       "108                     0.016655                 0.713072   \n",
       "\n",
       "     export_success_rate_auto  license_success_rate_auto  \n",
       "108                  0.432488                   0.042181  "
      ]
     },
     "execution_count": 214,
     "metadata": {},
     "output_type": "execute_result"
    }
   ],
   "source": [
    "query_df_fulldata [query_df_fulldata['query'] == 'arrow']"
   ]
  },
  {
   "cell_type": "code",
   "execution_count": 245,
   "id": "270b0430",
   "metadata": {},
   "outputs": [
    {
     "name": "stdout",
     "output_type": "stream",
     "text": [
      "0.10809652352579693 0.9139191258209343\n"
     ]
    }
   ],
   "source": [
    "# test key query =arrow \n",
    "successes = [43022, 44055]\n",
    "nobs = [61782, 63291]\n",
    "z_stat, pval = proportions_ztest(successes, nobs=nobs)\n",
    "\n",
    "print(z_stat, pval)\n"
   ]
  },
  {
   "cell_type": "code",
   "execution_count": 246,
   "id": "25974175",
   "metadata": {},
   "outputs": [],
   "source": [
    "query_test = query_df_fulldata [(query_df_fulldata['search_id_manual']>0) & (query_df_fulldata['search_id_auto'] >0 )]\n",
    "\n",
    "# query_test = query_df_fulldata [query_df_fulldata['query'] == 'arrow']"
   ]
  },
  {
   "cell_type": "code",
   "execution_count": 254,
   "id": "111f07b7",
   "metadata": {},
   "outputs": [],
   "source": [
    "\n",
    "query_word = []\n",
    "list_p = []\n",
    "\n",
    "def test_signficance(data, keyword_var,control_var, control_succ_var, treat_var, treat_succ_var):\n",
    "           for idx, row in   data.iterrows(): \n",
    "                          successes = [row[control_succ_var], row[treat_succ_var]]\n",
    "                          nobs = [row[control_var], row[treat_var]]    \n",
    "                          z_stat, pval = proportions_ztest(successes, nobs=nobs)\n",
    "                          query_word.append(row[keyword_var])\n",
    "                          list_p.append(pval)\n",
    "                            \n",
    "                        "
   ]
  },
  {
   "cell_type": "code",
   "execution_count": 255,
   "id": "4b6caf2f",
   "metadata": {},
   "outputs": [],
   "source": [
    "# test click rate per search    \n",
    "           \n",
    "test_signficance(data = query_test,\n",
    "                 keyword_var = 'query',\n",
    "                 control_var = 'search_id_manual',\n",
    "                 control_succ_var = 'click_success_manual',\n",
    "                 treat_var = 'search_id_auto' ,\n",
    "                 treat_succ_var = 'click_success_auto')\n",
    "\n",
    "click_test_output = pd.DataFrame ({'query': query_word,\n",
    "                                    'p_value': list_p })\n"
   ]
  },
  {
   "cell_type": "code",
   "execution_count": 250,
   "id": "27e894f6",
   "metadata": {},
   "outputs": [],
   "source": [
    "# filter which query performs well on click rates\n",
    "\n",
    "query_test_result = query_test.merge(click_test_output, on='query', how='inner')\n",
    "\n",
    "query_test_result['click_diff_manaul_vs_auto'] = query_test_result ['click_success_rate_manual'] - query_test_result ['click_success_rate_auto']\n",
    "\n",
    "\n"
   ]
  },
  {
   "cell_type": "code",
   "execution_count": 258,
   "id": "881dee5f",
   "metadata": {},
   "outputs": [
    {
     "data": {
      "text/html": [
       "<div>\n",
       "<style scoped>\n",
       "    .dataframe tbody tr th:only-of-type {\n",
       "        vertical-align: middle;\n",
       "    }\n",
       "\n",
       "    .dataframe tbody tr th {\n",
       "        vertical-align: top;\n",
       "    }\n",
       "\n",
       "    .dataframe thead th {\n",
       "        text-align: right;\n",
       "    }\n",
       "</style>\n",
       "<table border=\"1\" class=\"dataframe\">\n",
       "  <thead>\n",
       "    <tr style=\"text-align: right;\">\n",
       "      <th></th>\n",
       "      <th>query</th>\n",
       "      <th>search_id_manual</th>\n",
       "      <th>search_id_auto</th>\n",
       "      <th>click_success_manual</th>\n",
       "      <th>click_success_auto</th>\n",
       "      <th>click_success_rate_manual</th>\n",
       "      <th>click_success_rate_auto</th>\n",
       "      <th>click_diff_manaul_vs_auto</th>\n",
       "      <th>p_value</th>\n",
       "    </tr>\n",
       "  </thead>\n",
       "  <tbody>\n",
       "    <tr>\n",
       "      <th>216</th>\n",
       "      <td>line</td>\n",
       "      <td>37510</td>\n",
       "      <td>35510</td>\n",
       "      <td>24981</td>\n",
       "      <td>20593</td>\n",
       "      <td>0.665982</td>\n",
       "      <td>0.549000</td>\n",
       "      <td>0.116982</td>\n",
       "      <td>2.901102e-127</td>\n",
       "    </tr>\n",
       "    <tr>\n",
       "      <th>122</th>\n",
       "      <td>box</td>\n",
       "      <td>11531</td>\n",
       "      <td>9097</td>\n",
       "      <td>6511</td>\n",
       "      <td>2691</td>\n",
       "      <td>0.564652</td>\n",
       "      <td>0.233371</td>\n",
       "      <td>0.331281</td>\n",
       "      <td>0.000000e+00</td>\n",
       "    </tr>\n",
       "    <tr>\n",
       "      <th>179</th>\n",
       "      <td>free</td>\n",
       "      <td>9214</td>\n",
       "      <td>8820</td>\n",
       "      <td>1656</td>\n",
       "      <td>1120</td>\n",
       "      <td>0.179727</td>\n",
       "      <td>0.121554</td>\n",
       "      <td>0.058172</td>\n",
       "      <td>1.011370e-22</td>\n",
       "    </tr>\n",
       "    <tr>\n",
       "      <th>239</th>\n",
       "      <td>numbers</td>\n",
       "      <td>5180</td>\n",
       "      <td>4965</td>\n",
       "      <td>3140</td>\n",
       "      <td>2805</td>\n",
       "      <td>0.606178</td>\n",
       "      <td>0.541506</td>\n",
       "      <td>0.064672</td>\n",
       "      <td>2.509497e-05</td>\n",
       "    </tr>\n",
       "    <tr>\n",
       "      <th>155</th>\n",
       "      <td>dot</td>\n",
       "      <td>4784</td>\n",
       "      <td>4907</td>\n",
       "      <td>3049</td>\n",
       "      <td>2791</td>\n",
       "      <td>0.637333</td>\n",
       "      <td>0.583403</td>\n",
       "      <td>0.053930</td>\n",
       "      <td>5.392517e-12</td>\n",
       "    </tr>\n",
       "    <tr>\n",
       "      <th>265</th>\n",
       "      <td>shapes</td>\n",
       "      <td>3852</td>\n",
       "      <td>3988</td>\n",
       "      <td>1954</td>\n",
       "      <td>1931</td>\n",
       "      <td>0.507269</td>\n",
       "      <td>0.501298</td>\n",
       "      <td>0.005971</td>\n",
       "      <td>4.113614e-02</td>\n",
       "    </tr>\n",
       "    <tr>\n",
       "      <th>238</th>\n",
       "      <td>number</td>\n",
       "      <td>2530</td>\n",
       "      <td>2278</td>\n",
       "      <td>1470</td>\n",
       "      <td>1249</td>\n",
       "      <td>0.581028</td>\n",
       "      <td>0.493676</td>\n",
       "      <td>0.087352</td>\n",
       "      <td>2.220996e-02</td>\n",
       "    </tr>\n",
       "    <tr>\n",
       "      <th>151</th>\n",
       "      <td>confetti</td>\n",
       "      <td>2207</td>\n",
       "      <td>2032</td>\n",
       "      <td>1496</td>\n",
       "      <td>1474</td>\n",
       "      <td>0.677843</td>\n",
       "      <td>0.667875</td>\n",
       "      <td>0.009968</td>\n",
       "      <td>7.326140e-04</td>\n",
       "    </tr>\n",
       "    <tr>\n",
       "      <th>252</th>\n",
       "      <td>planet</td>\n",
       "      <td>1251</td>\n",
       "      <td>1272</td>\n",
       "      <td>722</td>\n",
       "      <td>671</td>\n",
       "      <td>0.577138</td>\n",
       "      <td>0.536371</td>\n",
       "      <td>0.040767</td>\n",
       "      <td>1.220773e-02</td>\n",
       "    </tr>\n",
       "    <tr>\n",
       "      <th>285</th>\n",
       "      <td>sushi</td>\n",
       "      <td>1088</td>\n",
       "      <td>905</td>\n",
       "      <td>550</td>\n",
       "      <td>416</td>\n",
       "      <td>0.505515</td>\n",
       "      <td>0.382353</td>\n",
       "      <td>0.123162</td>\n",
       "      <td>4.144783e-02</td>\n",
       "    </tr>\n",
       "    <tr>\n",
       "      <th>50</th>\n",
       "      <td>Line</td>\n",
       "      <td>426</td>\n",
       "      <td>410</td>\n",
       "      <td>253</td>\n",
       "      <td>205</td>\n",
       "      <td>0.593897</td>\n",
       "      <td>0.481221</td>\n",
       "      <td>0.112676</td>\n",
       "      <td>6.392948e-03</td>\n",
       "    </tr>\n",
       "    <tr>\n",
       "      <th>274</th>\n",
       "      <td>social media icons</td>\n",
       "      <td>346</td>\n",
       "      <td>347</td>\n",
       "      <td>234</td>\n",
       "      <td>209</td>\n",
       "      <td>0.676301</td>\n",
       "      <td>0.604046</td>\n",
       "      <td>0.072254</td>\n",
       "      <td>4.254473e-02</td>\n",
       "    </tr>\n",
       "    <tr>\n",
       "      <th>142</th>\n",
       "      <td>christmas tree</td>\n",
       "      <td>251</td>\n",
       "      <td>272</td>\n",
       "      <td>166</td>\n",
       "      <td>153</td>\n",
       "      <td>0.661355</td>\n",
       "      <td>0.609562</td>\n",
       "      <td>0.051793</td>\n",
       "      <td>2.058158e-02</td>\n",
       "    </tr>\n",
       "    <tr>\n",
       "      <th>51</th>\n",
       "      <td>Lines</td>\n",
       "      <td>244</td>\n",
       "      <td>151</td>\n",
       "      <td>171</td>\n",
       "      <td>79</td>\n",
       "      <td>0.700820</td>\n",
       "      <td>0.323770</td>\n",
       "      <td>0.377049</td>\n",
       "      <td>3.717725e-04</td>\n",
       "    </tr>\n",
       "    <tr>\n",
       "      <th>153</th>\n",
       "      <td>diwali</td>\n",
       "      <td>231</td>\n",
       "      <td>177</td>\n",
       "      <td>117</td>\n",
       "      <td>56</td>\n",
       "      <td>0.506494</td>\n",
       "      <td>0.242424</td>\n",
       "      <td>0.264069</td>\n",
       "      <td>1.176551e-04</td>\n",
       "    </tr>\n",
       "    <tr>\n",
       "      <th>272</th>\n",
       "      <td>social icons</td>\n",
       "      <td>151</td>\n",
       "      <td>140</td>\n",
       "      <td>111</td>\n",
       "      <td>87</td>\n",
       "      <td>0.735099</td>\n",
       "      <td>0.576159</td>\n",
       "      <td>0.158940</td>\n",
       "      <td>3.774103e-02</td>\n",
       "    </tr>\n",
       "    <tr>\n",
       "      <th>11</th>\n",
       "      <td>Box</td>\n",
       "      <td>147</td>\n",
       "      <td>111</td>\n",
       "      <td>78</td>\n",
       "      <td>32</td>\n",
       "      <td>0.530612</td>\n",
       "      <td>0.217687</td>\n",
       "      <td>0.312925</td>\n",
       "      <td>9.750438e-05</td>\n",
       "    </tr>\n",
       "    <tr>\n",
       "      <th>0</th>\n",
       "      <td>20% text</td>\n",
       "      <td>138</td>\n",
       "      <td>79</td>\n",
       "      <td>97</td>\n",
       "      <td>14</td>\n",
       "      <td>0.702899</td>\n",
       "      <td>0.101449</td>\n",
       "      <td>0.601449</td>\n",
       "      <td>9.051221e-14</td>\n",
       "    </tr>\n",
       "    <tr>\n",
       "      <th>250</th>\n",
       "      <td>pie charts</td>\n",
       "      <td>117</td>\n",
       "      <td>117</td>\n",
       "      <td>73</td>\n",
       "      <td>46</td>\n",
       "      <td>0.623932</td>\n",
       "      <td>0.393162</td>\n",
       "      <td>0.230769</td>\n",
       "      <td>4.146084e-04</td>\n",
       "    </tr>\n",
       "    <tr>\n",
       "      <th>71</th>\n",
       "      <td>Shapes</td>\n",
       "      <td>94</td>\n",
       "      <td>147</td>\n",
       "      <td>75</td>\n",
       "      <td>65</td>\n",
       "      <td>0.797872</td>\n",
       "      <td>0.691489</td>\n",
       "      <td>0.106383</td>\n",
       "      <td>4.797856e-08</td>\n",
       "    </tr>\n",
       "    <tr>\n",
       "      <th>215</th>\n",
       "      <td>lifestyle</td>\n",
       "      <td>48</td>\n",
       "      <td>49</td>\n",
       "      <td>25</td>\n",
       "      <td>13</td>\n",
       "      <td>0.520833</td>\n",
       "      <td>0.270833</td>\n",
       "      <td>0.250000</td>\n",
       "      <td>9.947482e-03</td>\n",
       "    </tr>\n",
       "    <tr>\n",
       "      <th>222</th>\n",
       "      <td>minimal</td>\n",
       "      <td>46</td>\n",
       "      <td>31</td>\n",
       "      <td>23</td>\n",
       "      <td>5</td>\n",
       "      <td>0.500000</td>\n",
       "      <td>0.108696</td>\n",
       "      <td>0.391304</td>\n",
       "      <td>2.444800e-03</td>\n",
       "    </tr>\n",
       "    <tr>\n",
       "      <th>159</th>\n",
       "      <td>easter bunny</td>\n",
       "      <td>27</td>\n",
       "      <td>22</td>\n",
       "      <td>18</td>\n",
       "      <td>8</td>\n",
       "      <td>0.666667</td>\n",
       "      <td>0.296296</td>\n",
       "      <td>0.370370</td>\n",
       "      <td>3.450623e-02</td>\n",
       "    </tr>\n",
       "    <tr>\n",
       "      <th>209</th>\n",
       "      <td>inspirational</td>\n",
       "      <td>26</td>\n",
       "      <td>38</td>\n",
       "      <td>16</td>\n",
       "      <td>11</td>\n",
       "      <td>0.615385</td>\n",
       "      <td>0.423077</td>\n",
       "      <td>0.192308</td>\n",
       "      <td>9.517230e-03</td>\n",
       "    </tr>\n",
       "    <tr>\n",
       "      <th>43</th>\n",
       "      <td>Icon</td>\n",
       "      <td>12</td>\n",
       "      <td>13</td>\n",
       "      <td>4</td>\n",
       "      <td>0</td>\n",
       "      <td>0.333333</td>\n",
       "      <td>0.000000</td>\n",
       "      <td>0.333333</td>\n",
       "      <td>2.312980e-02</td>\n",
       "    </tr>\n",
       "    <tr>\n",
       "      <th>102</th>\n",
       "      <td>alphabet frames</td>\n",
       "      <td>6</td>\n",
       "      <td>8</td>\n",
       "      <td>4</td>\n",
       "      <td>1</td>\n",
       "      <td>0.666667</td>\n",
       "      <td>0.166667</td>\n",
       "      <td>0.500000</td>\n",
       "      <td>3.633141e-02</td>\n",
       "    </tr>\n",
       "    <tr>\n",
       "      <th>95</th>\n",
       "      <td>Valentines</td>\n",
       "      <td>5</td>\n",
       "      <td>6</td>\n",
       "      <td>4</td>\n",
       "      <td>1</td>\n",
       "      <td>0.800000</td>\n",
       "      <td>0.200000</td>\n",
       "      <td>0.600000</td>\n",
       "      <td>3.568233e-02</td>\n",
       "    </tr>\n",
       "    <tr>\n",
       "      <th>27</th>\n",
       "      <td>Fashion</td>\n",
       "      <td>4</td>\n",
       "      <td>4</td>\n",
       "      <td>3</td>\n",
       "      <td>0</td>\n",
       "      <td>0.750000</td>\n",
       "      <td>0.000000</td>\n",
       "      <td>0.750000</td>\n",
       "      <td>2.845974e-02</td>\n",
       "    </tr>\n",
       "  </tbody>\n",
       "</table>\n",
       "</div>"
      ],
      "text/plain": [
       "                  query  search_id_manual  search_id_auto  \\\n",
       "216                line             37510           35510   \n",
       "122                 box             11531            9097   \n",
       "179                free              9214            8820   \n",
       "239             numbers              5180            4965   \n",
       "155                 dot              4784            4907   \n",
       "265              shapes              3852            3988   \n",
       "238              number              2530            2278   \n",
       "151            confetti              2207            2032   \n",
       "252              planet              1251            1272   \n",
       "285               sushi              1088             905   \n",
       "50                 Line               426             410   \n",
       "274  social media icons               346             347   \n",
       "142      christmas tree               251             272   \n",
       "51                Lines               244             151   \n",
       "153              diwali               231             177   \n",
       "272        social icons               151             140   \n",
       "11                  Box               147             111   \n",
       "0              20% text               138              79   \n",
       "250          pie charts               117             117   \n",
       "71               Shapes                94             147   \n",
       "215           lifestyle                48              49   \n",
       "222             minimal                46              31   \n",
       "159        easter bunny                27              22   \n",
       "209       inspirational                26              38   \n",
       "43                 Icon                12              13   \n",
       "102     alphabet frames                 6               8   \n",
       "95           Valentines                 5               6   \n",
       "27              Fashion                 4               4   \n",
       "\n",
       "     click_success_manual  click_success_auto  click_success_rate_manual  \\\n",
       "216                 24981               20593                   0.665982   \n",
       "122                  6511                2691                   0.564652   \n",
       "179                  1656                1120                   0.179727   \n",
       "239                  3140                2805                   0.606178   \n",
       "155                  3049                2791                   0.637333   \n",
       "265                  1954                1931                   0.507269   \n",
       "238                  1470                1249                   0.581028   \n",
       "151                  1496                1474                   0.677843   \n",
       "252                   722                 671                   0.577138   \n",
       "285                   550                 416                   0.505515   \n",
       "50                    253                 205                   0.593897   \n",
       "274                   234                 209                   0.676301   \n",
       "142                   166                 153                   0.661355   \n",
       "51                    171                  79                   0.700820   \n",
       "153                   117                  56                   0.506494   \n",
       "272                   111                  87                   0.735099   \n",
       "11                     78                  32                   0.530612   \n",
       "0                      97                  14                   0.702899   \n",
       "250                    73                  46                   0.623932   \n",
       "71                     75                  65                   0.797872   \n",
       "215                    25                  13                   0.520833   \n",
       "222                    23                   5                   0.500000   \n",
       "159                    18                   8                   0.666667   \n",
       "209                    16                  11                   0.615385   \n",
       "43                      4                   0                   0.333333   \n",
       "102                     4                   1                   0.666667   \n",
       "95                      4                   1                   0.800000   \n",
       "27                      3                   0                   0.750000   \n",
       "\n",
       "     click_success_rate_auto  click_diff_manaul_vs_auto        p_value  \n",
       "216                 0.549000                   0.116982  2.901102e-127  \n",
       "122                 0.233371                   0.331281   0.000000e+00  \n",
       "179                 0.121554                   0.058172   1.011370e-22  \n",
       "239                 0.541506                   0.064672   2.509497e-05  \n",
       "155                 0.583403                   0.053930   5.392517e-12  \n",
       "265                 0.501298                   0.005971   4.113614e-02  \n",
       "238                 0.493676                   0.087352   2.220996e-02  \n",
       "151                 0.667875                   0.009968   7.326140e-04  \n",
       "252                 0.536371                   0.040767   1.220773e-02  \n",
       "285                 0.382353                   0.123162   4.144783e-02  \n",
       "50                  0.481221                   0.112676   6.392948e-03  \n",
       "274                 0.604046                   0.072254   4.254473e-02  \n",
       "142                 0.609562                   0.051793   2.058158e-02  \n",
       "51                  0.323770                   0.377049   3.717725e-04  \n",
       "153                 0.242424                   0.264069   1.176551e-04  \n",
       "272                 0.576159                   0.158940   3.774103e-02  \n",
       "11                  0.217687                   0.312925   9.750438e-05  \n",
       "0                   0.101449                   0.601449   9.051221e-14  \n",
       "250                 0.393162                   0.230769   4.146084e-04  \n",
       "71                  0.691489                   0.106383   4.797856e-08  \n",
       "215                 0.270833                   0.250000   9.947482e-03  \n",
       "222                 0.108696                   0.391304   2.444800e-03  \n",
       "159                 0.296296                   0.370370   3.450623e-02  \n",
       "209                 0.423077                   0.192308   9.517230e-03  \n",
       "43                  0.000000                   0.333333   2.312980e-02  \n",
       "102                 0.166667                   0.500000   3.633141e-02  \n",
       "95                  0.200000                   0.600000   3.568233e-02  \n",
       "27                  0.000000                   0.750000   2.845974e-02  "
      ]
     },
     "execution_count": 258,
     "metadata": {},
     "output_type": "execute_result"
    }
   ],
   "source": [
    "# Identify queries that manual perform better than auto\n",
    "query_manul_better = query_test_result [(query_test_result['click_diff_manaul_vs_auto'] >0 )& (query_test_result['p_value'] < 0.05)].\\\n",
    "          sort_values(by =['search_id_manual'], ascending=False) \n",
    "\n",
    "query_manul_better[['query','search_id_manual', 'search_id_auto',\n",
    "                      'click_success_manual', 'click_success_auto', \n",
    "                      'click_success_rate_manual', 'click_success_rate_auto', \n",
    "                      'click_diff_manaul_vs_auto','p_value']]"
   ]
  },
  {
   "cell_type": "markdown",
   "id": "719c1134",
   "metadata": {},
   "source": [
    "## Final thoughts: If more time are givem, I will analyze:\n",
    "* Each key word's, click/export/licences rate? This is to improve auto-search algo's power to show more relevant pics?\n",
    "* the plurals/misspeling isn't considered - more opotunity to see if it's required to \n",
    "\n",
    "* For free group, what is the uplift for licensed picture pruchases?\n",
    "\n",
    "* If a customer purchase a picture, can we run marketing campaign to convert to subscriptions?"
   ]
  }
 ],
 "metadata": {
  "kernelspec": {
   "display_name": "Python 3 (ipykernel)",
   "language": "python",
   "name": "python3"
  },
  "language_info": {
   "codemirror_mode": {
    "name": "ipython",
    "version": 3
   },
   "file_extension": ".py",
   "mimetype": "text/x-python",
   "name": "python",
   "nbconvert_exporter": "python",
   "pygments_lexer": "ipython3",
   "version": "3.9.7"
  }
 },
 "nbformat": 4,
 "nbformat_minor": 5
}
