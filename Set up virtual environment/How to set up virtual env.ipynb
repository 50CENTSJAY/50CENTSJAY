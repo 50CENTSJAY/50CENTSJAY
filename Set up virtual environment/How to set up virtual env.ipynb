{
 "cells": [
  {
   "cell_type": "markdown",
   "id": "99c084ef-0f6f-44e9-9fdb-ff553a35f289",
   "metadata": {},
   "source": [
    "## How to guide - Set up virutual envinroment?\n",
    "\n",
    "Step 1: \n",
    "Open anaconda cmd\n",
    "\n",
    "Create virtual envrinment \n",
    "\n",
    "conda create -n myenv\n",
    "\n",
    "Note myenv is the name of your new environment\n",
    "\n",
    "\n",
    "Step 2:\n",
    "Activate envcinroment\n",
    "\n",
    "conda activate myenv\n",
    "\n",
    "Remove virutual environment\n",
    "conda env remove -n myenv\n"
   ]
  },
  {
   "cell_type": "markdown",
   "id": "403fc354-0c6e-48c2-9d3f-db0279011547",
   "metadata": {},
   "source": [
    "##  How to install packages?\n",
    "\n",
    "1. Step 1 open anaconda cmd\n",
    "\n",
    "install pip package first\n",
    "\n",
    "- conda install -n cryptoenv pip\n",
    "\n",
    "2. Step 2: \n",
    "install kernal package\n",
    "pip install --user ipykernel\n",
    "\n",
    "Then enable the virtual environment\n",
    "python -m ipykernel install --user --name=<my_env_name>\n",
    "\n",
    "\n",
    "\n"
   ]
  },
  {
   "cell_type": "markdown",
   "id": "59b9db43-f22e-40db-99df-91a296e21f2e",
   "metadata": {},
   "source": [
    "### How to add  new package?\n",
    "\n",
    "Open anaconda cmd :\n",
    "Activate environment: \n",
    "\n",
    "conda activate myenv\n",
    "\n",
    "# start installing: \n",
    "Option 1: \n",
    "conda install -n cryptoenv <pacage name>\n",
    "\n",
    "Option 2; \n",
    "pip install xxx\n",
    "\n"
   ]
  }
 ],
 "metadata": {
  "kernelspec": {
   "display_name": "cryptoenv",
   "language": "python",
   "name": "cryptoenv"
  },
  "language_info": {
   "codemirror_mode": {
    "name": "ipython",
    "version": 3
   },
   "file_extension": ".py",
   "mimetype": "text/x-python",
   "name": "python",
   "nbconvert_exporter": "python",
   "pygments_lexer": "ipython3",
   "version": "3.9.7"
  }
 },
 "nbformat": 4,
 "nbformat_minor": 5
}
